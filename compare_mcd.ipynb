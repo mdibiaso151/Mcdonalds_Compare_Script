{
 "cells": [
  {
   "cell_type": "code",
   "execution_count": 1,
   "metadata": {},
   "outputs": [],
   "source": [
    "import pandas as pd\n",
    "\n",
    "# Read in the CSV files and create the dataframes\n",
    "headers=[   \n",
    "    \"Qid\",\n",
    "    \"CVE\",\n",
    "    \"Vulnerability\",\n",
    "    \"FirstFound\",\n",
    "    \"Hostname\",\n",
    "    \"Environment\",\n",
    "    \"InstanceId\",\n",
    "    \"Platform\"] \n",
    "    \n",
    "\n",
    "df1 = pd.read_csv('1monthback.csv', usecols=headers)\n",
    "  \n",
    "df2 = pd.read_csv('current_month.csv', usecols=headers)\n",
    "    \n",
    "\n"
   ]
  },
  {
   "cell_type": "code",
   "execution_count": 2,
   "metadata": {},
   "outputs": [],
   "source": [
    "# Create a new column called 'match_key' in df1 and df2\n",
    "df1['match_key'] = df1.apply(lambda x: f\"{x['Qid']}::{x['InstanceId']}\", axis=1)\n",
    "df2['match_key'] = df2.apply(lambda x: f\"{x['Qid']}::{x['InstanceId']}\", axis=1)"
   ]
  },
  {
   "cell_type": "code",
   "execution_count": 3,
   "metadata": {},
   "outputs": [],
   "source": [
    "def df_diff(df1, df2, which=None):\n",
    "    \"\"\"\n",
    "    Function to find the differences between two dataframes.\n",
    "    \"\"\"\n",
    "    comparison_df = df1.merge(df2, indicator=True, how=\"outer\", on=['match_key'])\n",
    "    if which is None:\n",
    "        diff_df = comparison_df\n",
    "        # diff_df = comparison_df[comparison_df[\"_merge\"] != \"both\"]\n",
    "    else:\n",
    "        diff_df = comparison_df[comparison_df[\"_merge\"] == which]\n",
    "    return diff_df"
   ]
  },
  {
   "cell_type": "code",
   "execution_count": 4,
   "metadata": {},
   "outputs": [],
   "source": [
    "# Find the differences between the two dataframes based on the match_key column\n",
    "df_difference = df_diff(df1, df2)"
   ]
  },
  {
   "cell_type": "code",
   "execution_count": 5,
   "metadata": {},
   "outputs": [],
   "source": [
    "# Select the rows with the value 'left_only' in the _merge column\n",
    "remediated_df = df_difference[df_difference['_merge'] == 'left_only']\n",
    "pending_df = df_difference.loc[(df_difference['_merge'] == 'both') | (df_difference['_merge'] == 'right_only')]\n"
   ]
  },
  {
   "cell_type": "code",
   "execution_count": 6,
   "metadata": {},
   "outputs": [],
   "source": [
    "#rename and reformat clean up before writing\n",
    "\n",
    "remediated_df.columns = remediated_df.columns.str.rstrip(\"_x\")\n",
    "pending_df.columns = pending_df.columns.str.rstrip(\"_y\")\n",
    "\n",
    "#remove unwanted columns x and y\n",
    "headers_new=[   \n",
    "    \"Qid\",\n",
    "    \"CVE\",\n",
    "    \"Vulnerability\",\n",
    "    \"FirstFound\",\n",
    "    \"Hostname\",\n",
    "    \"Environment\",\n",
    "    \"InstanceId\",\n",
    "    \"Platform\",\n",
    "    \"_merge\"]\n",
    "    \n",
    "remeadiations=pd.DataFrame(remediated_df,columns=headers_new)\n",
    "pending=pd.DataFrame(pending_df,columns=headers_new)"
   ]
  },
  {
   "cell_type": "code",
   "execution_count": 7,
   "metadata": {},
   "outputs": [],
   "source": [
    "# Write the remediated data to a new sheet in an Excel file\n",
    "with pd.ExcelWriter('remediated.xlsx') as writer:\n",
    "    remeadiations.to_excel(writer, sheet_name='remediated',index=False)\n",
    "    pending.to_excel(writer, sheet_name='pending',index=False)\n"
   ]
  },
  {
   "cell_type": "code",
   "execution_count": null,
   "metadata": {},
   "outputs": [],
   "source": []
  }
 ],
 "metadata": {
  "kernelspec": {
   "display_name": "Python 3",
   "language": "python",
   "name": "python3"
  },
  "language_info": {
   "codemirror_mode": {
    "name": "ipython",
    "version": 3
   },
   "file_extension": ".py",
   "mimetype": "text/x-python",
   "name": "python",
   "nbconvert_exporter": "python",
   "pygments_lexer": "ipython3",
   "version": "3.9.13 (tags/v3.9.13:6de2ca5, May 17 2022, 16:36:42) [MSC v.1929 64 bit (AMD64)]"
  },
  "orig_nbformat": 4,
  "vscode": {
   "interpreter": {
    "hash": "11938c6bc6919ae2720b4d5011047913343b08a43b18698fd82dedb0d4417594"
   }
  }
 },
 "nbformat": 4,
 "nbformat_minor": 2
}
